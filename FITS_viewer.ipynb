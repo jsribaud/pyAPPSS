{
 "cells": [
  {
   "cell_type": "code",
   "execution_count": 2,
   "id": "ab67ae4d",
   "metadata": {},
   "outputs": [],
   "source": [
    "from astropy.io import fits"
   ]
  },
  {
   "cell_type": "code",
   "execution_count": 3,
   "id": "4b3adcca",
   "metadata": {},
   "outputs": [
    {
     "name": "stdout",
     "output_type": "stream",
     "text": [
      "/Users/aryadesai/Desktop/pyAPPSS_repo/processed\n"
     ]
    }
   ],
   "source": [
    "%cd processed"
   ]
  },
  {
   "cell_type": "code",
   "execution_count": 4,
   "id": "222c79d1",
   "metadata": {},
   "outputs": [
    {
     "name": "stdout",
     "output_type": "stream",
     "text": [
      "AGC100038.fits   AGC204982.fits   AGC311400.fits   AGC450525.fits\r\n",
      "AGC10244.fits    AGC20503.fits    AGC3151.fits     AGC460003.fits\r\n",
      "AGC105046.fits   AGC21306.fits    AGC320249.fits   AGC460363.fits\r\n",
      "AGC11097.fits    AGC2164.fits     AGC321738.fits   AGC480379.fits\r\n",
      "AGC11128.fits    AGC222248.fits   AGC3232.fits     AGC480381.fits\r\n",
      "AGC111609.fits   AGC22318.fits    AGC323628.fits   AGC490057.fits\r\n",
      "AGC111724.fits   AGC226495.fits   AGC323629.fits   AGC490064.fits\r\n",
      "AGC11198.fits    AGC2269.fits     AGC323630.fits   AGC490778.fits\r\n",
      "AGC11260.fits    AGC229559.fits   AGC323632.fits   AGC490781.fits\r\n",
      "AGC11409.fits    AGC23161.fits    AGC331536.fits   AGC501715.fits\r\n",
      "AGC114578.fits   AGC2353.fits     AGC3329.fits     AGC501818.fits\r\n",
      "AGC11470.fits    AGC239288.fits   AGC337143.fits   AGC531592.fits\r\n",
      "AGC11478.fits    AGC24007.fits    AGC337144.fits   AGC540155.fits\r\n",
      "AGC11554.fits    AGC24223.fits    AGC3376.fits     AGC550003.fits\r\n",
      "AGC11560.fits    AGC25281.fits    AGC34954.fits    AGC550056.fits\r\n",
      "AGC11628.fits    AGC2561.fits     AGC35788.fits    AGC550256.fits\r\n",
      "AGC116545.fits   AGC257439.fits   AGC35810.fits    AGC560053.fits\r\n",
      "AGC116546.fits   AGC260804.fits   AGC36444.fits    AGC610146.fits\r\n",
      "AGC11758.fits    AGC26163.fits    AGC36511.fits    AGC610773.fits\r\n",
      "AGC120570.fits   AGC26706.fits    AGC3738.fits     AGC610776.fits\r\n",
      "AGC12071.fits    AGC26744.fits    AGC400635.fits   AGC630248.fits\r\n",
      "AGC125814.fits   AGC270260.fits   AGC411448.fits   AGC630249.fits\r\n",
      "AGC125817.fits   AGC272733.fits   AGC411450.fits   AGC630902.fits\r\n",
      "AGC130214.fits   AGC272734.fits   AGC421112.fits   AGC646.fits\r\n",
      "AGC131345.fits   AGC272735.fits   AGC421115.fits   AGC716159.fits\r\n",
      "AGC1324.fits     AGC272736.fits   AGC430063.fits   AGC729972.fits\r\n",
      "AGC140442.fits   AGC272737.fits   AGC430359.fits   AGC7847.fits\r\n",
      "AGC175126.fits   AGC272738.fits   AGC430428.fits   AGC7935.fits\r\n",
      "AGC180952.fits   AGC272739.fits   AGC431483.fits   AGC9391.fits\r\n",
      "AGC190579.fits   AGC290421.fits   AGC440420.fits   AGCs13.fits\r\n",
      "AGC1993.fits     AGC300486.fits   AGC440970.fits   ReducedData.csv\r\n",
      "AGC200048.fits   AGC310069.fits   AGC441221.fits   file_remove.py\r\n",
      "AGC201353.fits   AGC310983.fits   AGC4455.fits     my_file.csv\r\n",
      "AGC204628.fits   AGC311262.fits   AGC4481.fits\r\n"
     ]
    }
   ],
   "source": [
    "%ls"
   ]
  },
  {
   "cell_type": "code",
   "execution_count": 6,
   "id": "c2ce1ae0",
   "metadata": {},
   "outputs": [],
   "source": [
    "hdul = fits.open('AGC100038.fits')"
   ]
  },
  {
   "cell_type": "code",
   "execution_count": 12,
   "id": "c85c3238",
   "metadata": {},
   "outputs": [
    {
     "data": {
      "text/plain": [
       "SIMPLE  =                    T / conforms to FITS standard                      \n",
       "BITPIX  =                    8 / array data type                                \n",
       "NAXIS   =                    0 / number of array dimensions                     \n",
       "EXTEND  =                    T                                                  \n",
       "COMMENT                                                                         \n",
       "COMMENT  *** End of mandatory fields ***                                        \n",
       "COMMENT                                                                         \n",
       "EXTNAME = 'SINGLE DISH'                                                         \n",
       "CTYPE4  = 'STOKES  '                                                            \n",
       "COMMENT                                                                         \n",
       "COMMENT  *** Column names ***                                                   \n",
       "COMMENT                                                                         \n",
       "COMMENT                                                                         \n",
       "COMMENT  *** Column formats ***                                                 \n",
       "COMMENT                                                                         "
      ]
     },
     "execution_count": 12,
     "metadata": {},
     "output_type": "execute_result"
    }
   ],
   "source": [
    "hdul[0].header"
   ]
  },
  {
   "cell_type": "code",
   "execution_count": 16,
   "id": "65bb04ce",
   "metadata": {},
   "outputs": [
    {
     "data": {
      "text/plain": [
       "XTENSION= 'BINTABLE'           / binary table extension                         \n",
       "BITPIX  =                    8 / array data type                                \n",
       "NAXIS   =                    2 / number of array dimensions                     \n",
       "NAXIS1  =                   20 / length of dimension 1                          \n",
       "NAXIS2  =                 8192 / length of dimension 2                          \n",
       "PCOUNT  =                    0 / number of group parameters                     \n",
       "GCOUNT  =                    1 / number of groups                               \n",
       "TFIELDS =                    5 / number of table fields                         \n",
       "TTYPE1  = 'VHELIO  '                                                            \n",
       "TFORM1  = 'E       '                                                            \n",
       "TUNIT1  = 'km/s    '                                                            \n",
       "TTYPE2  = 'FREQUENCY'                                                           \n",
       "TFORM2  = 'E       '                                                            \n",
       "TUNIT2  = 'MHz     '                                                            \n",
       "TTYPE3  = 'FLUX    '                                                            \n",
       "TFORM3  = 'E       '                                                            \n",
       "TUNIT3  = 'mJy     '                                                            \n",
       "TTYPE4  = 'BASELINE'                                                            \n",
       "TFORM4  = 'E       '                                                            \n",
       "TUNIT4  = 'mJy     '                                                            \n",
       "TTYPE5  = 'WEIGHT  '                                                            \n",
       "TFORM5  = 'E       '                                                            \n",
       "EXTNAME = 'SINGLE DISH'                                                         \n",
       "OBSERVAT= ''                                                                    \n",
       "TELESCOP= 'NRAO_GBT'                                                            \n",
       "INSTRUME= ''                                                                    \n",
       "BEAM    = ''                                                                    \n",
       "OBJECT  = '100038  '                                                            \n",
       "RA      = '1.5616164525077416'                                                  \n",
       "DEC     = '8.888403621997476'                                                   \n",
       "EQUINOX = '2000.0  '                                                            \n",
       "RESTFREQ= '1420406000.0'                                                        \n",
       "BW      = '23.4375 '                                                            \n",
       "CHAN    = '8192    '                                                            \n",
       "NOTE01  = 'This fits file was created using a translation program from &'       \n",
       "CONTINUE  'standard GBTIDL output to the APPSS format, Jul-26-2023'             "
      ]
     },
     "execution_count": 16,
     "metadata": {},
     "output_type": "execute_result"
    }
   ],
   "source": [
    "(hdul[1].header)"
   ]
  },
  {
   "cell_type": "code",
   "execution_count": 14,
   "id": "b5fb9dbe",
   "metadata": {},
   "outputs": [
    {
     "ename": "IndexError",
     "evalue": "list index out of range",
     "output_type": "error",
     "traceback": [
      "\u001b[0;31m---------------------------------------------------------------------------\u001b[0m",
      "\u001b[0;31mIndexError\u001b[0m                                Traceback (most recent call last)",
      "Cell \u001b[0;32mIn[14], line 1\u001b[0m\n\u001b[0;32m----> 1\u001b[0m hdul[\u001b[38;5;241m2\u001b[39m]\u001b[38;5;241m.\u001b[39mheader\n",
      "File \u001b[0;32m~/anaconda3/lib/python3.11/site-packages/astropy/io/fits/hdu/hdulist.py:326\u001b[0m, in \u001b[0;36mHDUList.__getitem__\u001b[0;34m(self, key)\u001b[0m\n\u001b[1;32m    323\u001b[0m \u001b[38;5;28;01mexcept\u001b[39;00m \u001b[38;5;167;01mIndexError\u001b[39;00m \u001b[38;5;28;01mas\u001b[39;00m e:\n\u001b[1;32m    324\u001b[0m     \u001b[38;5;66;03m# Raise a more helpful IndexError if the file was not fully read.\u001b[39;00m\n\u001b[1;32m    325\u001b[0m     \u001b[38;5;28;01mif\u001b[39;00m \u001b[38;5;28mself\u001b[39m\u001b[38;5;241m.\u001b[39m_read_all:\n\u001b[0;32m--> 326\u001b[0m         \u001b[38;5;28;01mraise\u001b[39;00m e\n\u001b[1;32m    327\u001b[0m     \u001b[38;5;28;01melse\u001b[39;00m:\n\u001b[1;32m    328\u001b[0m         \u001b[38;5;28;01mraise\u001b[39;00m \u001b[38;5;167;01mIndexError\u001b[39;00m(\u001b[38;5;124m'\u001b[39m\u001b[38;5;124mHDU not found, possibly because the index \u001b[39m\u001b[38;5;124m'\u001b[39m\n\u001b[1;32m    329\u001b[0m                          \u001b[38;5;124m'\u001b[39m\u001b[38;5;124mis out of range, or because the file was \u001b[39m\u001b[38;5;124m'\u001b[39m\n\u001b[1;32m    330\u001b[0m                          \u001b[38;5;124m'\u001b[39m\u001b[38;5;124mclosed before all HDUs were read\u001b[39m\u001b[38;5;124m'\u001b[39m)\n",
      "File \u001b[0;32m~/anaconda3/lib/python3.11/site-packages/astropy/io/fits/hdu/hdulist.py:321\u001b[0m, in \u001b[0;36mHDUList.__getitem__\u001b[0;34m(self, key)\u001b[0m\n\u001b[1;32m    317\u001b[0m \u001b[38;5;66;03m# Originally this used recursion, but hypothetically an HDU with\u001b[39;00m\n\u001b[1;32m    318\u001b[0m \u001b[38;5;66;03m# a very large number of HDUs could blow the stack, so use a loop\u001b[39;00m\n\u001b[1;32m    319\u001b[0m \u001b[38;5;66;03m# instead\u001b[39;00m\n\u001b[1;32m    320\u001b[0m \u001b[38;5;28;01mtry\u001b[39;00m:\n\u001b[0;32m--> 321\u001b[0m     \u001b[38;5;28;01mreturn\u001b[39;00m \u001b[38;5;28mself\u001b[39m\u001b[38;5;241m.\u001b[39m_try_while_unread_hdus(\u001b[38;5;28msuper\u001b[39m()\u001b[38;5;241m.\u001b[39m\u001b[38;5;21m__getitem__\u001b[39m,\n\u001b[1;32m    322\u001b[0m                                        \u001b[38;5;28mself\u001b[39m\u001b[38;5;241m.\u001b[39m_positive_index_of(key))\n\u001b[1;32m    323\u001b[0m \u001b[38;5;28;01mexcept\u001b[39;00m \u001b[38;5;167;01mIndexError\u001b[39;00m \u001b[38;5;28;01mas\u001b[39;00m e:\n\u001b[1;32m    324\u001b[0m     \u001b[38;5;66;03m# Raise a more helpful IndexError if the file was not fully read.\u001b[39;00m\n\u001b[1;32m    325\u001b[0m     \u001b[38;5;28;01mif\u001b[39;00m \u001b[38;5;28mself\u001b[39m\u001b[38;5;241m.\u001b[39m_read_all:\n",
      "File \u001b[0;32m~/anaconda3/lib/python3.11/site-packages/astropy/io/fits/hdu/hdulist.py:1146\u001b[0m, in \u001b[0;36mHDUList._try_while_unread_hdus\u001b[0;34m(self, func, *args, **kwargs)\u001b[0m\n\u001b[1;32m   1144\u001b[0m \u001b[38;5;28;01mwhile\u001b[39;00m \u001b[38;5;28;01mTrue\u001b[39;00m:\n\u001b[1;32m   1145\u001b[0m     \u001b[38;5;28;01mtry\u001b[39;00m:\n\u001b[0;32m-> 1146\u001b[0m         \u001b[38;5;28;01mreturn\u001b[39;00m func(\u001b[38;5;241m*\u001b[39margs, \u001b[38;5;241m*\u001b[39m\u001b[38;5;241m*\u001b[39mkwargs)\n\u001b[1;32m   1147\u001b[0m     \u001b[38;5;28;01mexcept\u001b[39;00m \u001b[38;5;167;01mException\u001b[39;00m:\n\u001b[1;32m   1148\u001b[0m         \u001b[38;5;28;01mif\u001b[39;00m \u001b[38;5;28mself\u001b[39m\u001b[38;5;241m.\u001b[39m_read_next_hdu():\n",
      "\u001b[0;31mIndexError\u001b[0m: list index out of range"
     ]
    }
   ],
   "source": [
    "hdul[2].header"
   ]
  },
  {
   "cell_type": "code",
   "execution_count": null,
   "id": "f2779a22",
   "metadata": {},
   "outputs": [],
   "source": []
  }
 ],
 "metadata": {
  "kernelspec": {
   "display_name": "Python 3 (ipykernel)",
   "language": "python",
   "name": "python3"
  },
  "language_info": {
   "codemirror_mode": {
    "name": "ipython",
    "version": 3
   },
   "file_extension": ".py",
   "mimetype": "text/x-python",
   "name": "python",
   "nbconvert_exporter": "python",
   "pygments_lexer": "ipython3",
   "version": "3.11.3"
  }
 },
 "nbformat": 4,
 "nbformat_minor": 5
}
