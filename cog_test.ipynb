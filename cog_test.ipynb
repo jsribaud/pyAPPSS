{
 "cells": [
  {
   "cell_type": "code",
   "execution_count": 7,
   "id": "7fbef743",
   "metadata": {},
   "outputs": [],
   "source": [
    "from pyappss.scripts import reduce"
   ]
  },
  {
   "cell_type": "code",
   "execution_count": 11,
   "id": "6161ce42",
   "metadata": {},
   "outputs": [
    {
     "data": {
      "text/plain": [
       "<module 'pyappss.scripts.reduce' from '/Users/aryadesai/Desktop/pyAPPSS_repo/pyappss/scripts/reduce.py'>"
      ]
     },
     "execution_count": 11,
     "metadata": {},
     "output_type": "execute_result"
    }
   ],
   "source": [
    "reduce"
   ]
  },
  {
   "cell_type": "code",
   "execution_count": null,
   "id": "3c508205",
   "metadata": {},
   "outputs": [],
   "source": []
  }
 ],
 "metadata": {
  "kernelspec": {
   "display_name": "Python 3 (ipykernel)",
   "language": "python",
   "name": "python3"
  },
  "language_info": {
   "codemirror_mode": {
    "name": "ipython",
    "version": 3
   },
   "file_extension": ".py",
   "mimetype": "text/x-python",
   "name": "python",
   "nbconvert_exporter": "python",
   "pygments_lexer": "ipython3",
   "version": "3.11.3"
  }
 },
 "nbformat": 4,
 "nbformat_minor": 5
}
